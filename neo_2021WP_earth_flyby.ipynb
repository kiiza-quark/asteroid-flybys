{
 "cells": [
  {
   "cell_type": "code",
   "execution_count": 1,
   "metadata": {},
   "outputs": [],
   "source": [
    "# Import standard modules\n",
    "import datetime\n",
    "\n",
    "# Import installed modules\n",
    "import numpy as np\n",
    "import spiceypy"
   ]
  },
  {
   "cell_type": "code",
   "execution_count": 2,
   "metadata": {},
   "outputs": [],
   "source": [
    "# Load the SPICE kernels via a meta file\n",
    "spiceypy.furnsh('kernel_meta.txt')\n",
    "\n",
    "# Set a datetime format\n",
    "datetime_format = \"%Y-%m-%dT%H:%M:%S\"\n",
    "\n",
    "# Create an initial date-time object that is converted to a string\n",
    "init_datetime_utc = datetime.datetime(year=2021,\n",
    "                                      month=11,\n",
    "                                      day=19,\n",
    "                                      hour=0,\n",
    "                                      minute=0,\n",
    "                                      second=0).strftime(datetime_format)\n",
    "\n",
    "# Convert to Ephemeris Time (ET) using the SPICE function utc2et\n",
    "datetime_et = spiceypy.utc2et(init_datetime_utc)"
   ]
  },
  {
   "cell_type": "code",
   "execution_count": 3,
   "metadata": {},
   "outputs": [
    {
     "name": "stdout",
     "output_type": "stream",
     "text": [
      "SOI of the Earth in LD: 2.4054224328225597\n"
     ]
    }
   ],
   "source": [
    "# On spaceweather.com we can see that an asteroid has a close Earth fly-by:\n",
    "# 2021 WP on 2021-November-21 at a distance of around 0.4 LD, so within the Sphere Of Influence of\n",
    "# Earth!\n",
    "\n",
    "# 1 AU in km\n",
    "ONE_AU = spiceypy.convrt(x=1, inunit='AU', outunit='km')\n",
    "\n",
    "# Get the G*M value for the Sun\n",
    "_, gm_sun_pre = spiceypy.bodvcd(bodyid=10, item='GM', maxn=1)\n",
    "GM_SUN = gm_sun_pre[0]\n",
    "\n",
    "# Set the G*M parameter of our planet\n",
    "_, gm_earth_pre = spiceypy.bodvcd(bodyid=399, item='GM', maxn=1)\n",
    "GM_EARTH = gm_earth_pre[0]\n",
    "\n",
    "# Compute the SOI radius of the Earth\n",
    "SOI_EARTH_R = ONE_AU * (GM_EARTH/GM_SUN) ** (2.0/5.0)\n",
    "\n",
    "# Set one Lunar Distance (LD) in km (value from spaceweather.com)\n",
    "ONE_LD = 384401.0\n",
    "\n",
    "print(f'SOI of the Earth in LD: {SOI_EARTH_R/ONE_LD}')"
   ]
  },
  {
   "cell_type": "code",
   "execution_count": 4,
   "metadata": {},
   "outputs": [],
   "source": [
    "# Let's obtain the orbit elements data of 2021 WP from \n",
    "# https://ssd.jpl.nasa.gov/tools/sbdb_lookup.html#/?sstr=2021%20WP\n",
    "\n",
    "# Before we compute a state vector of the asteroid and the current distance\n",
    "# to our home planet we need to define a function to round the data. A common\n",
    "# convention for scientific work is to round the data to one significant\n",
    "# digit. We create a lambda function that rounds the values based on the\n",
    "# provided measurement error\n",
    "round_sig = lambda value, err: np.round(value, -1*(int(np.floor(np.log10(err)))))\n",
    "\n",
    "# Set now the perihelion in km\n",
    "neo_2021wp_perihelion_km = spiceypy.convrt(round_sig(0.9320456652320572, \\\n",
    "                                                     4.1154E-5), \\\n",
    "                                            inunit='AU', outunit='km')\n",
    "\n",
    "# Set the eccentricity\n",
    "neo_2021wp_ecc = round_sig(0.1566053963605083, 0.00010949)\n",
    "\n",
    "# Set the inclination, longitude of ascending node and argument of periapsis\n",
    "# in radians\n",
    "neo_2021wp_inc_rad = np.radians(round_sig(3.808107572352944, 0.0027162))\n",
    "neo_2021wp_lnode_rad = np.radians(round_sig(58.20287162913875, 0.0021186))\n",
    "neo_2021wp_argp_rad = np.radians(round_sig(306.7404738426862, 0.0045684))\n",
    "\n",
    "# Set the mean anomaly and corresponding epoch in Julian Date (JD)\n",
    "neo_2021wp_m0_at_t0_rad = np.radians(round_sig(91.92206685260463, 0.013333))\n",
    "neo_2021wp_t0 = spiceypy.utc2et('2459600.5 JD')\n",
    "\n",
    "# Set the orbital elements array\n",
    "neo_2021wp_orbital_elements = [neo_2021wp_perihelion_km, \\\n",
    "                               neo_2021wp_ecc, \\\n",
    "                               neo_2021wp_inc_rad, \\\n",
    "                               neo_2021wp_lnode_rad, \\\n",
    "                               neo_2021wp_argp_rad, \\\n",
    "                               neo_2021wp_m0_at_t0_rad, \\\n",
    "                               neo_2021wp_t0, \\\n",
    "                               GM_SUN]"
   ]
  },
  {
   "cell_type": "code",
   "execution_count": 5,
   "metadata": {},
   "outputs": [
    {
     "name": "stdout",
     "output_type": "stream",
     "text": [
      "1st SOI crossing at UTC: 2021-11-19T03:32:59\n",
      "Intersection check in LD: 2.405386171012861\n"
     ]
    }
   ],
   "source": [
    "# Let's compute the first SOI crossing of the NEO (from interplanetary space to Earth's vicinity)\n",
    "\n",
    "# First we set a counter for a while condition. When the NEO is entering the SOI, we increase the\n",
    "# counter to leave the while condition\n",
    "soi_crossing_cnt = 0\n",
    "\n",
    "while soi_crossing_cnt == 0:\n",
    "\n",
    "    # Increase ET time by 1 minute\n",
    "    datetime_et += 60 # seconds\n",
    "\n",
    "    # Compute the state vector of the NEO and Earth\n",
    "    neo_2021wp_state_vector = spiceypy.conics(neo_2021wp_orbital_elements, datetime_et)\n",
    "    earth_state_vector, _ = spiceypy.spkgeo(targ=399, \\\n",
    "                                            et=datetime_et, \\\n",
    "                                            ref='ECLIPJ2000',\n",
    "                                            obs=10)\n",
    "\n",
    "    # Compute the state vector of the NEO w.r.t. our home planet\n",
    "    neo_2021wp_wrt_earth_state_vector = neo_2021wp_state_vector - earth_state_vector\n",
    "\n",
    "    # Compute the current distance of the Earth and the NEO in km\n",
    "    earth_2021wp_dist = spiceypy.vnorm(neo_2021wp_wrt_earth_state_vector[:3])\n",
    "\n",
    "    # Check if the SOI is crossed. Increase counter and print some results\n",
    "    if earth_2021wp_dist <= SOI_EARTH_R:\n",
    "        soi_crossing_cnt += 1\n",
    "        \n",
    "        print(f\"1st SOI crossing at UTC: \" \\\n",
    "              f\"{spiceypy.et2datetime(datetime_et).strftime(datetime_format)}\")\n",
    "        print(f\"Intersection check in LD: {earth_2021wp_dist / ONE_LD}\")\n"
   ]
  },
  {
   "cell_type": "code",
   "execution_count": 6,
   "metadata": {},
   "outputs": [
    {
     "name": "stdout",
     "output_type": "stream",
     "text": [
      "Perigee of 2021 WP w.r.t. the Earth in km: 152774.92214815144\n",
      "Eccentricity of 2021 WP w.r.t. the Earth: 8.907534305396858\n"
     ]
    }
   ],
   "source": [
    "# Now let's take a look at the orbital elements of the NEO in Earth-centric ECLIPJ2000 coordiantes\n",
    "neo_elements_wrt_earth = spiceypy.oscelt(state=neo_2021wp_wrt_earth_state_vector,\n",
    "                                         et=datetime_et,\n",
    "                                         mu=GM_EARTH)\n",
    "\n",
    "# Printing only the perigee and eccentricity.\n",
    "# As we can see, that perigee is way larger than the radius of our planet. So there is no risk for\n",
    "# an impact (the value is around 0.5 LD). The eccentricity indicates that the NEO is on a highly\n",
    "# eccentric orbit. Thus, it will leave Earth's vicinity and the SOI.\n",
    "print(f\"Perigee of 2021 WP w.r.t. the Earth in km: {neo_elements_wrt_earth[0]}\")\n",
    "print(f\"Eccentricity of 2021 WP w.r.t. the Earth: {neo_elements_wrt_earth[1]}\")"
   ]
  },
  {
   "cell_type": "code",
   "execution_count": 7,
   "metadata": {},
   "outputs": [
    {
     "name": "stdout",
     "output_type": "stream",
     "text": [
      "2nd SOI crossing at UTC: 2021-11-23T15:25:59\n",
      "Intersection check in LD: 2.405510448418613\n"
     ]
    }
   ],
   "source": [
    "# Now we compute the trajectory of the NEO within Earth's SOI in Earth-centric orbital elements\n",
    "while soi_crossing_cnt == 1:\n",
    "\n",
    "    # Increase ET time by 1 minute\n",
    "    datetime_et += 60 # seconds\n",
    "\n",
    "    # Compute the state vector of the NEO in Earth centric coordiantes\n",
    "    neo_2021wp_wrt_earth_state_vector = spiceypy.conics(neo_elements_wrt_earth, datetime_et)\n",
    "\n",
    "    # Compute the current distance of the Earth and the asteroid in km\n",
    "    earth_2021wp_dist = spiceypy.vnorm(neo_2021wp_wrt_earth_state_vector[:3])\n",
    "\n",
    "    # Check if the SOI is crossed. Increase counter and print some results\n",
    "    if earth_2021wp_dist >= SOI_EARTH_R:\n",
    "        soi_crossing_cnt += 1\n",
    "        \n",
    "        print(f\"2nd SOI crossing at UTC: \" \\\n",
    "              f\"{spiceypy.et2datetime(datetime_et).strftime(datetime_format)}\")\n",
    "        print(f\"Intersection check in LD: {earth_2021wp_dist / ONE_LD}\")"
   ]
  },
  {
   "cell_type": "code",
   "execution_count": 8,
   "metadata": {},
   "outputs": [],
   "source": [
    "# 2021 WP left the SOI. We can now compute Earth's state vector at the SOI-crossing-time and re-\n",
    "# compute the state vector of the NEO in helio-centric coordiantes\n",
    "earth_state_vector, _ = spiceypy.spkgeo(targ=399, \\\n",
    "                                        et=datetime_et, \\\n",
    "                                        ref='ECLIPJ2000',\n",
    "                                        obs=10)\n",
    "\n",
    "# Compute the state vector of the NEO in helio-centric coordiantes (correcting by the Earth's\n",
    "# state vector)\n",
    "neo_2021wp_state_vector = earth_state_vector + neo_2021wp_wrt_earth_state_vector\n",
    "\n",
    "# Compute now the orbital elements, based on the newly computed NEO state vector.\n",
    "# Did the orbital elements change at all?\n",
    "neo_2021wp_orbital_elements_altered = spiceypy.oscelt(state=neo_2021wp_state_vector,\n",
    "                                                      et=datetime_et,\n",
    "                                                      mu=GM_SUN)"
   ]
  },
  {
   "cell_type": "code",
   "execution_count": 9,
   "metadata": {},
   "outputs": [
    {
     "name": "stdout",
     "output_type": "stream",
     "text": [
      "Perihelion in AU before and after (+ delta): 0.9320499999999998, 0.9185358482068057, 0.013514151793194198\n",
      "Eccentricity before and after (+ delta) in AU: 0.1566, 0.16168752100441286, -0.0050875210044128705\n",
      "Inclination in degrees before and after (+ delta): 3.808, 2.106572488148098, 1.7014275118519018\n",
      "Long. of. asc. node in degrees before and after (+ delta): 58.202999999999996, 57.369864198134934, 0.8331358018650636\n",
      "Arg. of. perihelion in degrees before and after (+ delta): 306.74, 301.4696164686528, 5.2703835313471705\n"
     ]
    }
   ],
   "source": [
    "# Print some orbital elements:\n",
    "#     - Before entering Earth's SOI\n",
    "#     - After leaving Earth's SOI\n",
    "#     - And the corresponding delta\n",
    "#\n",
    "# Note: we are not rounding any values here. Create your function to round the newly computed values\n",
    "# based on the previous precision.\n",
    "print(f\"Perihelion in AU before and after (+ delta): \" \\\n",
    "      f\"{neo_2021wp_orbital_elements[0] / ONE_AU}, \"\n",
    "      f\"{neo_2021wp_orbital_elements_altered[0] / ONE_AU}, \"\n",
    "      f\"{(neo_2021wp_orbital_elements[0] - neo_2021wp_orbital_elements_altered[0]) / ONE_AU}\")\n",
    "\n",
    "print(f\"Eccentricity before and after (+ delta) in AU: \" \\\n",
    "      f\"{neo_2021wp_orbital_elements[1]}, \"\n",
    "      f\"{neo_2021wp_orbital_elements_altered[1]}, \"\n",
    "      f\"{neo_2021wp_orbital_elements[1] - neo_2021wp_orbital_elements_altered[1]}\")\n",
    "\n",
    "print(f\"Inclination in degrees before and after (+ delta): \" \\\n",
    "      f\"{np.degrees(neo_2021wp_orbital_elements[2])}, \"\n",
    "      f\"{np.degrees(neo_2021wp_orbital_elements_altered[2])}, \"\n",
    "      f\"{np.degrees(neo_2021wp_orbital_elements[2] - neo_2021wp_orbital_elements_altered[2])}\")\n",
    "\n",
    "print(f\"Long. of. asc. node in degrees before and after (+ delta): \" \\\n",
    "      f\"{np.degrees(neo_2021wp_orbital_elements[3])}, \"\n",
    "      f\"{np.degrees(neo_2021wp_orbital_elements_altered[3])}, \"\n",
    "      f\"{np.degrees(neo_2021wp_orbital_elements[3] - neo_2021wp_orbital_elements_altered[3])}\")\n",
    "\n",
    "print(f\"Arg. of. perihelion in degrees before and after (+ delta): \" \\\n",
    "      f\"{np.degrees(neo_2021wp_orbital_elements[4])}, \"\n",
    "      f\"{np.degrees(neo_2021wp_orbital_elements_altered[4])}, \"\n",
    "      f\"{np.degrees(neo_2021wp_orbital_elements[4] - neo_2021wp_orbital_elements_altered[4])}\")"
   ]
  }
 ],
 "metadata": {
  "kernelspec": {
   "display_name": "Python 3",
   "language": "python",
   "name": "python3"
  },
  "language_info": {
   "codemirror_mode": {
    "name": "ipython",
    "version": 3
   },
   "file_extension": ".py",
   "mimetype": "text/x-python",
   "name": "python",
   "nbconvert_exporter": "python",
   "pygments_lexer": "ipython3",
   "version": "3.9.7"
  }
 },
 "nbformat": 4,
 "nbformat_minor": 4
}
